{
 "cells": [
  {
   "cell_type": "markdown",
   "metadata": {},
   "source": [
    "##Course 1\n",
    "\n",
    "###Genomic Prediction in Livestock\n",
    "\n",
    "###May 11-15, 2015\n",
    "\n",
    "This course is part of the Breeding and Genetics Graduate Education Online program and is partially sponsored \n",
    "by USDA-NIFA grant # 2011-38411-30551\n",
    "\n",
    "###Course Instructor:\n",
    "* Dorian Garrick\n",
    "* Rohan Fernando\n",
    "* Jack Dekkers\n",
    "\n",
    "###Topics Covered:\n",
    "*\tStatistical, quantitative genetic, and computational aspects of genomic prediction.\n",
    "*\tGenome-wide association studies using genomic prediction\n",
    "*\tGenSel software for genomic prediction and GWAS\n",
    "\n",
    "\n",
    "###Prerequisites:        \n",
    "* Graduate-level course in quantitative genetics.\n",
    "* Graduate-level course in statistics.\n",
    "* Basic understanding of molecular genetics, QTL mapping, linkage, and linkage disequilibrium."
   ]
  },
  {
   "cell_type": "markdown",
   "metadata": {},
   "source": [
    "###Materials:\n",
    "#### Notes:\n",
    "\n",
    "* Day 1:\n",
    "\n",
    " * [Introduction to Genomic Prediction](notes/day1/Introduction.pdf)\n",
    " * [Simple Linear Models](notes/day1/Simple_Linear_Models.pdf)\n",
    " * [Simulation of data using Julia (pdf)](notes/day1/SimulationJulia.pdf)\n",
    " * [Simulation of data using Julia (html)](notes/day1/wrkShpSlides1.slides.html)\n",
    " * [Monte Carlo](notes/day1/wrkShpSlides2.slides.html)\n",
    " * [Julia code](code/example.jl.txt)\n",
    "\n",
    "\n",
    "\n",
    "* Day 2: \n",
    " * [MCMC (pdf)](notes/day2/wrkShpSlides2.pdf)\n",
    " * [MCMC (notebook)](notes/day2/wrkShpSlides2.ipynb)\n",
    " * [Pedigree Package (pdf)](notes/day2/wrkShpPedSlides.pdf)\n",
    " * [Pedigree Package (notebook)](notes/day2/wrkShpPedSlides.ipynb)\n",
    " * [Julia code](code/LinearRegressionMCMC.jl.txt)\n",
    " * [Pedigree BLUP](notes/day2/3_Pedigree_BLUP_slides.pdf)\n",
    " * [Fixed Effects Models](notes/day2/4_Fixed_Effects_Models_slides.pdf)\n"
   ]
  },
  {
   "cell_type": "markdown",
   "metadata": {},
   "source": [
    "###Julia Tutorial:\n",
    "\n",
    "* [Learn X in Y minutes](http://learnxinyminutes.com/docs/julia/)\n",
    "* [Introduction to Julia for Statistical Genetics](http://reworkhow.github.io/JuliaGenBook/)"
   ]
  }
 ],
 "metadata": {
  "kernelspec": {
   "display_name": "Julia 0.3.7",
   "language": "julia",
   "name": "julia 0.3"
  },
  "language_info": {
   "name": "julia",
   "version": "0.3.7"
  }
 },
 "nbformat": 4,
 "nbformat_minor": 0
}
