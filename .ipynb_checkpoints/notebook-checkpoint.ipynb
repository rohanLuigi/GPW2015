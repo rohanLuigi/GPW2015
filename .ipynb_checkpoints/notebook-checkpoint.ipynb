{
 "cells": [
  {
   "cell_type": "markdown",
   "metadata": {},
   "source": [
    "##Course 1\n",
    "\n",
    "###Genomic Prediction in Livestock\n",
    "\n",
    "###May 11-15, 2015\n",
    "\n",
    "This course is part of the Breeding and Genetics Graduate Education Online program and is partially sponsored \n",
    "by USDA-NIFA grant # 2011-38411-30551\n",
    "\n",
    "###Course Instructor:\n",
    "* Dorian Garrick\n",
    "* Rohan Fernando\n",
    "* Jack Dekkers\n",
    "\n",
    "###Topics Covered:\n",
    "*\tStatistical, quantitative genetic, and computational aspects of genomic prediction.\n",
    "*\tGenome-wide association studies using genomic prediction\n",
    "*\tGenSel software for genomic prediction and GWAS\n",
    "\n",
    "\n",
    "###Prerequisites:        \n",
    "* Graduate-level course in quantitative genetics.\n",
    "* Graduate-level course in statistics.\n",
    "* Basic understanding of molecular genetics, QTL mapping, linkage, and linkage disequilibrium."
   ]
  },
  {
   "cell_type": "markdown",
   "metadata": {},
   "source": [
    "###Materials:\n",
    "#### Notes:\n",
    "\n",
    "* Day 1:\n",
    "\n",
    " * [Introduction to Genomic Prediction](notes/Introduction.pdf)\n",
    " * [Simple Linear Models](notes/Simple_Linear_Models.pdf)\n",
    " * [Simulation of data using Julia](notes/SimulationJulia.pdf)\n",
    "\n",
    "\n",
    "\n",
    "\n",
    "* Day 2: "
   ]
  }
 ],
 "metadata": {
  "kernelspec": {
   "display_name": "Julia 0.3.7",
   "language": "julia",
   "name": "julia 0.3"
  },
  "language_info": {
   "name": "julia",
   "version": "0.3.7"
  }
 },
 "nbformat": 4,
 "nbformat_minor": 0
}
